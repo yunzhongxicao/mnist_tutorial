{
 "cells": [
  {
   "cell_type": "markdown",
   "metadata": {},
   "source": [
    "# Pytorch Tutorial"
   ]
  },
  {
   "cell_type": "markdown",
   "metadata": {},
   "source": [
    "Pytorch is a popular deep learning framework and it's easy to get started."
   ]
  },
  {
   "cell_type": "code",
   "execution_count": 2,
   "metadata": {
    "pycharm": {
     "is_executing": false
    }
   },
   "outputs": [],
   "source": [
    "import torch\n",
    "import torch.nn as nn\n",
    "import torch.utils.data as data\n",
    "import torch.nn.functional as F\n",
    "import torchvision\n",
    "import torchvision.transforms as transforms\n",
    "from tqdm import tqdm\n",
    "import time\n",
    "\n",
    "BATCH_SIZE = 128\n",
    "NUM_EPOCHS = 10"
   ]
  },
  {
   "cell_type": "markdown",
   "metadata": {},
   "source": [
    "First, we read the mnist data, preprocess them and encapsulate them into dataloader form."
   ]
  },
  {
   "cell_type": "code",
   "execution_count": 3,
   "metadata": {
    "pycharm": {
     "is_executing": false
    }
   },
   "outputs": [],
   "source": [
    "# preprocessing\n",
    "normalize = transforms.Normalize(mean=[.5], std=[.5])\n",
    "transform = transforms.Compose([transforms.ToTensor(), normalize])\n",
    "\n",
    "# download and load the data\n",
    "train_dataset = torchvision.datasets.MNIST(root='./mnist/', train=True, transform=transform, download=True)\n",
    "test_dataset = torchvision.datasets.MNIST(root='./mnist/', train=False, transform=transform, download=False)\n",
    "\n",
    "# encapsulate them into dataloader form\n",
    "train_loader = data.DataLoader(train_dataset, batch_size=BATCH_SIZE, shuffle=True, drop_last=True)\n",
    "test_loader = data.DataLoader(test_dataset, batch_size=BATCH_SIZE, shuffle=False, drop_last=True)"
   ]
  },
  {
   "cell_type": "markdown",
   "metadata": {},
   "source": [
    "Then, we define the model, object function and optimizer that we use to classify."
   ]
  },
  {
   "cell_type": "code",
   "execution_count": 4,
   "metadata": {
    "collapsed": true,
    "pycharm": {
     "is_executing": false
    }
   },
   "outputs": [
    {
     "name": "stdout",
     "text": [
      "SimpleNet(\n",
      "  (fun1): Linear(in_features=784, out_features=64, bias=True)\n",
      "  (fun2): Linear(in_features=64, out_features=64, bias=True)\n",
      "  (fun3): Linear(in_features=64, out_features=64, bias=True)\n",
      "  (fun4): Linear(in_features=64, out_features=10, bias=True)\n",
      ")\n"
     ],
     "output_type": "stream"
    }
   ],
   "source": [
    "class SimpleNet(nn.Module):\n",
    "# TODO:define model\n",
    "    def __init__(self):\n",
    "        super().__init__()\n",
    "        self.fun1 = nn.Linear(784,64)\n",
    "        self.fun2 = nn.Linear(64,64)\n",
    "        self.fun3 = nn.Linear(64,64)\n",
    "        self.fun4 = nn.Linear(64,10)\n",
    "        \n",
    "    def forward(self, x):\n",
    "        x = F.relu(self.fun1(x))\n",
    "        x = F.relu(self.fun2(x))\n",
    "        x = F.relu(self.fun3(x))\n",
    "        x = self.fun4(x)\n",
    "        return F.log_softmax(x, dim=1)\n",
    "\n",
    "net = SimpleNet()\n",
    "print (net)\n",
    "# TODO:define loss function and optimiter\n",
    "criterion = nn.CrossEntropyLoss()\n",
    "optimizer = torch.optim.SGD(net.parameters(),lr=0.03)"
   ]
  },
  {
   "cell_type": "markdown",
   "metadata": {},
   "source": [
    "Next, we can start to train and evaluate!"
   ]
  },
  {
   "cell_type": "code",
   "execution_count": 5,
   "metadata": {
    "collapsed": true,
    "pycharm": {
     "is_executing": false
    },
    "scrolled": true
   },
   "outputs": [
    {
     "name": "stdout",
     "text": [
      "tensor(0.3730, grad_fn=<NllLossBackward>)\n",
      "train_Accuracy:  0.866\n",
      "test_Accuracy:  0.867\n",
      "tensor(0.2521, grad_fn=<NllLossBackward>)\n",
      "train_Accuracy:  0.906\n",
      "test_Accuracy:  0.906\n",
      "tensor(0.3643, grad_fn=<NllLossBackward>)\n",
      "train_Accuracy:  0.915\n",
      "test_Accuracy:  0.914\n",
      "tensor(0.1903, grad_fn=<NllLossBackward>)\n",
      "train_Accuracy:  0.931\n",
      "test_Accuracy:  0.931\n",
      "tensor(0.2007, grad_fn=<NllLossBackward>)\n",
      "train_Accuracy:  0.938\n",
      "test_Accuracy:  0.937\n",
      "tensor(0.2175, grad_fn=<NllLossBackward>)\n",
      "train_Accuracy:  0.939\n",
      "test_Accuracy:  0.937\n",
      "tensor(0.2230, grad_fn=<NllLossBackward>)\n",
      "train_Accuracy:  0.952\n",
      "test_Accuracy:  0.948\n",
      "tensor(0.0766, grad_fn=<NllLossBackward>)\n",
      "train_Accuracy:  0.959\n",
      "test_Accuracy:  0.957\n",
      "tensor(0.2318, grad_fn=<NllLossBackward>)\n",
      "train_Accuracy:  0.961\n",
      "test_Accuracy:  0.958\n",
      "tensor(0.1187, grad_fn=<NllLossBackward>)\n",
      "train_Accuracy:  0.961\n",
      "test_Accuracy:  0.958\n"
     ],
     "output_type": "stream"
    }
   ],
   "source": [
    "# train and evaluate\n",
    "for epoch in range(NUM_EPOCHS):\n",
    "    for data in train_loader:\n",
    "        \n",
    "        X, y = data\n",
    "        net.zero_grad()\n",
    "        output = net(X.view(-1,28*28))\n",
    "        #print(output)\n",
    "        loss = F.nll_loss(output, y)\n",
    "        loss.backward()\n",
    "        optimizer.step()\n",
    "    print(loss)\n",
    "    correct = 0\n",
    "    total = 0\n",
    "    with torch.no_grad():\n",
    "        for data in train_loader:\n",
    "            X, y = data\n",
    "            output = net(X.view(-1,784))\n",
    "            for idx, i in enumerate(output):\n",
    "                if torch.argmax(i) == y[idx]:\n",
    "                    correct += 1\n",
    "                total += 1\n",
    "        train_acc = round(correct/total,3)\n",
    "        print(\"train_Accuracy: \", train_acc)\n",
    "    correct = 0\n",
    "    total = 0\n",
    "    with torch.no_grad():\n",
    "        for data in test_loader:\n",
    "            X, y = data\n",
    "            output = net(X.view(-1,784))\n",
    "            for idx, i in enumerate(output):\n",
    "                if torch.argmax(i) == y[idx]:\n",
    "                    correct += 1\n",
    "                total += 1\n",
    "        test_acc = round(correct/total,3)\n",
    "        print(\"test_Accuracy: \", test_acc)\n",
    "    # evaluate\n",
    "    # TODO:calculate the accuracy using traning and testing dataset\n",
    "    \n",
    "    \n",
    "    \n",
    "    \n"
   ]
  },
  {
   "cell_type": "markdown",
   "metadata": {},
   "source": [
    "#### Q5:\n",
    "Please print the training and testing accuracy.\n",
    "\n",
    "train_Accuracy:  0.961\n",
    "\n",
    "test_Accuracy:  0.958"
   ]
  }
 ],
 "metadata": {
  "kernelspec": {
   "name": "pytorch",
   "language": "python",
   "display_name": "pytorch"
  },
  "language_info": {
   "codemirror_mode": {
    "name": "ipython",
    "version": 3
   },
   "file_extension": ".py",
   "mimetype": "text/x-python",
   "name": "python",
   "nbconvert_exporter": "python",
   "pygments_lexer": "ipython3",
   "version": "3.6.10"
  },
  "pycharm": {
   "stem_cell": {
    "cell_type": "raw",
    "source": [],
    "metadata": {
     "collapsed": false
    }
   }
  }
 },
 "nbformat": 4,
 "nbformat_minor": 2
}